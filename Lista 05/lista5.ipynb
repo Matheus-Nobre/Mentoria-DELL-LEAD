{
 "cells": [
  {
   "cell_type": "markdown",
   "metadata": {},
   "source": [
    "# **Parte 1:**\n",
    " ### **1)Escreva um programa para determinar se uma string representa um número (inteiro ou real) válido. Exemplos de números válidos: 10, +5, −3, −10.3, 0.80, 2.8033.**\n"
   ]
  },
  {
   "cell_type": "code",
   "execution_count": 211,
   "metadata": {},
   "outputs": [],
   "source": [
    "import re"
   ]
  },
  {
   "cell_type": "code",
   "execution_count": 212,
   "metadata": {},
   "outputs": [],
   "source": [
    "string = ['10', '+5', '-3', '-10.3', '0.80', '2.8033']"
   ]
  },
  {
   "cell_type": "code",
   "execution_count": 213,
   "metadata": {},
   "outputs": [
    {
     "name": "stdout",
     "output_type": "stream",
     "text": [
      "[['10'], ['+5'], ['-3'], ['-10.3'], ['0.80'], ['2.8033']]\n"
     ]
    }
   ],
   "source": [
    "list = []\n",
    "for is_number in string:\n",
    "    pattern = re.compile(\"^[+|-]?[0-9\\.]+\")\n",
    "    list.append(re.findall(pattern, is_number))\n",
    "\n",
    "print(list)"
   ]
  },
  {
   "cell_type": "markdown",
   "metadata": {},
   "source": [
    "### **2)Escreva um programa para determinar se uma string representa um número de telefone (fixo ou celular) válido. Exemplos de números de telefones válidos: • (19) 3123-4567 • 193123-4567 • (019)3123-4567 • (19)31234567 • 1931234567 • (019) 91234 5678 • (019)91234 5678 • 019912345678 • 19 91234 5678 • 1991234 5678**"
   ]
  },
  {
   "cell_type": "code",
   "execution_count": 214,
   "metadata": {},
   "outputs": [],
   "source": [
    "string = ['(19) 3123-4567', '193123-4567', '(019)3123-4567', '(19)31234567', '1931234567', '(019) 91234 5678', '(019)91234 5678', '019912345678', '19 91234 5678', '1991234 5678']"
   ]
  },
  {
   "cell_type": "code",
   "execution_count": 215,
   "metadata": {},
   "outputs": [
    {
     "name": "stdout",
     "output_type": "stream",
     "text": [
      "[['(19) 3123-4567'], ['193123-4567'], ['(019)3123-4567'], ['(19)31234567'], ['1931234567'], ['(019) 91234 5678'], ['(019)91234 5678'], ['019912345678'], ['19 91234 5678'], ['1991234 5678']]\n"
     ]
    }
   ],
   "source": [
    "list = []\n",
    "for is_number in string:\n",
    "    pattern = re.compile(\"\\(?[0-9]*\\)*\\s?[0-9]{4,5}[\\-|\\s]?[0-9]*\")\n",
    "    list.append(re.findall(pattern, is_number))\n",
    "\n",
    "print(list)"
   ]
  },
  {
   "cell_type": "markdown",
   "metadata": {},
   "source": [
    "### **3)Com base no exercício anterior, escreva uma função que recebe como parâmetro uma string que representa um número de telefone (fixo ou celular). Caso o número não seja válido, sua função deve retornar None. Caso contrário, ela deve retornar uma string no formato (XX) XXXXX-XXXX, onde X representa um dígito do telefone.**"
   ]
  },
  {
   "cell_type": "code",
   "execution_count": 216,
   "metadata": {},
   "outputs": [
    {
     "name": "stdout",
     "output_type": "stream",
     "text": [
      "[['(19) 3123-4567'], ['193123-4567'], None, ['(019)3123-4567'], ['(19)31234567'], ['1931234567'], ['(019) 91234 5678'], ['(019)91234 5678'], ['019912345678'], ['19 91234 5678'], ['1991234 5678']]\n"
     ]
    }
   ],
   "source": [
    "string = ['(19) 3123-4567', '193123-4567','asvfwe','(019)3123-4567', '(19)31234567', '1931234567', '(019) 91234 5678', '(019)91234 5678', '019912345678', '19 91234 5678', '1991234 5678']\n",
    "list = []\n",
    "\n",
    "for is_number in string:\n",
    "        y = re.compile(\"\\(?[0-9]*\\)*\\s?[0-9]{4,5}[\\-|\\s]?[0-9]*\")\n",
    "        if (re.fullmatch(y, is_number)) != None :\n",
    "                list.append(re.findall(y, is_number))\n",
    "        else:\n",
    "                list.append(None)\n",
    "\n",
    "print(list)"
   ]
  },
  {
   "cell_type": "markdown",
   "metadata": {},
   "source": [
    "# **Parte 2:**\n",
    "\n",
    "### **4)Use PyPDF2 (ou outra lib) para abrir o arquivo Business_Proposal.pdf e extraia o texto da página 2.**\n"
   ]
  },
  {
   "cell_type": "code",
   "execution_count": 217,
   "metadata": {},
   "outputs": [],
   "source": [
    "import PyPDF2"
   ]
  },
  {
   "cell_type": "code",
   "execution_count": 218,
   "metadata": {},
   "outputs": [],
   "source": [
    "file = open('Business_Proposal.pdf','rb')\n",
    "reader = PyPDF2.PdfFileReader(file)"
   ]
  },
  {
   "cell_type": "code",
   "execution_count": 219,
   "metadata": {},
   "outputs": [
    {
     "name": "stdout",
     "output_type": "stream",
     "text": [
      "AUTHORS:  \n",
      "Amy Baker, Finance Chair, x345, abaker@ourcompany.com  \n",
      "Chris Donaldson, Accounting Dir., x621, cdonaldson@ourcompany.com  \n",
      "Erin Freeman, Sr. VP, x879, efreeman@ourcompany.com  \n"
     ]
    }
   ],
   "source": [
    "page2 = reader.getPage(1)\n",
    "pdf = page2.extractText()\n",
    "print(pdf)"
   ]
  },
  {
   "cell_type": "markdown",
   "metadata": {},
   "source": [
    "### **5)Crie um arquivo txt ou csv, e insira as informações da página 2 do PDF neste arquivo. Header sugerido: Primeiro nome, Último nome, Cargo, Ramal, E-mail**\n"
   ]
  },
  {
   "cell_type": "code",
   "execution_count": 220,
   "metadata": {},
   "outputs": [],
   "source": [
    "pdf = re.sub('AUTHORS:  \\n','Primeiro nome, Último nome, Cargo, Ramal, E-mail\\n',pdf)\n",
    "pdf = re.sub('Amy ',\"Amy,\", pdf)\n",
    "pdf = re.sub('Chris ',\"Chris,\", pdf)\n",
    "pdf = re.sub('Erin ',\"Erin,\", pdf)\n",
    "pdf = re.sub(',',\", \", pdf)"
   ]
  },
  {
   "cell_type": "code",
   "execution_count": 221,
   "metadata": {},
   "outputs": [
    {
     "name": "stdout",
     "output_type": "stream",
     "text": [
      "Primeiro nome,  Último nome,  Cargo,  Ramal,  E-mail\n",
      "Amy, Baker,  Finance Chair,  x345,  abaker@ourcompany.com  \n",
      "Chris, Donaldson,  Accounting Dir.,  x621,  cdonaldson@ourcompany.com  \n",
      "Erin, Freeman,  Sr. VP,  x879,  efreeman@ourcompany.com  \n"
     ]
    }
   ],
   "source": [
    "print(pdf)"
   ]
  },
  {
   "cell_type": "code",
   "execution_count": 222,
   "metadata": {},
   "outputs": [],
   "source": [
    "with open(\"teste.txt\", \"w\") as text_file:\n",
    "    text_file.write(pdf)"
   ]
  },
  {
   "cell_type": "markdown",
   "metadata": {},
   "source": [
    "### **6)Utilizando o resultado da questão 4, extraia os e-mails utilizando expressões regulares. Resultado: ['abaker@ourcompany.com', 'cdonaldson@ourcompany.com', 'efreeman@ourcompany.com']**\n"
   ]
  },
  {
   "cell_type": "code",
   "execution_count": 223,
   "metadata": {},
   "outputs": [],
   "source": [
    "string = ['abaker@ourcompany.com', 'cdonaldson@ourcompany.com', 'efreeman@ourcompany.com']"
   ]
  },
  {
   "cell_type": "code",
   "execution_count": 224,
   "metadata": {},
   "outputs": [
    {
     "name": "stdout",
     "output_type": "stream",
     "text": [
      "[['abaker@ourcompany.com'], ['cdonaldson@ourcompany.com'], ['efreeman@ourcompany.com']]\n"
     ]
    }
   ],
   "source": [
    "list = []\n",
    "for is_number in string:\n",
    "    pattern = re.compile('[\\w]*@[\\w]*\\.com')\n",
    "    list.append(re.findall(pattern, is_number))\n",
    "\n",
    "print(list)"
   ]
  }
 ],
 "metadata": {
  "kernelspec": {
   "display_name": "Python 3.8.10 64-bit",
   "language": "python",
   "name": "python3"
  },
  "language_info": {
   "codemirror_mode": {
    "name": "ipython",
    "version": 3
   },
   "file_extension": ".py",
   "mimetype": "text/x-python",
   "name": "python",
   "nbconvert_exporter": "python",
   "pygments_lexer": "ipython3",
   "version": "3.8.10"
  },
  "orig_nbformat": 4,
  "vscode": {
   "interpreter": {
    "hash": "916dbcbb3f70747c44a77c7bcd40155683ae19c65e1c03b4aa3499c5328201f1"
   }
  }
 },
 "nbformat": 4,
 "nbformat_minor": 2
}
