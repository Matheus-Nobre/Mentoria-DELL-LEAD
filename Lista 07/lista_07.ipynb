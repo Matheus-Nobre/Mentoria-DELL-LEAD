{
 "cells": [
  {
   "cell_type": "markdown",
   "metadata": {},
   "source": [
    "### **1) Utilize o arquivo iphone.txt**"
   ]
  },
  {
   "cell_type": "code",
   "execution_count": 263,
   "metadata": {},
   "outputs": [],
   "source": [
    "import spacy\n",
    "nlp = spacy.load('en_core_web_sm')"
   ]
  },
  {
   "cell_type": "code",
   "execution_count": 264,
   "metadata": {},
   "outputs": [],
   "source": [
    "#with open(\"phone.txt\", \"r\") as arquivo:"
   ]
  },
  {
   "cell_type": "code",
   "execution_count": 265,
   "metadata": {},
   "outputs": [],
   "source": [
    "file = \"A 412MHz ARM CPU and a 3.5-inch screen with a resolution of 480 320 to 163ppi. For the iPhone, this is where it all began. It wasn’t the first smartphone introduction in many respects, but it was undoubtedly the most significant.The iPhone 3G is identical to the first iPhone, except with a thinner metal outside border and a 3G connection. 3GS similar to the 3G, but with a 600 MHz ARM A8 CPU, twice the RAM (256 GB), and a fingerprint-resistant screen covering.With a 3.5-inch screen with 960 x 480 resolution and the debut of the Retina screen, here is where the design and power truly increased. The flat glass design has become iconic, and FaceTime included a front camera.It now has a faster processor and Siri as a personal assistant. Tim Cook, the CEO of Apple, unveiled the iPhone 4S on October 4, 2011, and Steve Jobs died the next day, on October 5.Another step forward for Apple, with a bigger 4-inch screen that runs at 1136 x 640 resolution and a new design for the iPhone. Lightning, a new connection, was also introduced.5S had a plastic body.  The iPhone 5S ditched the home button in favour of Touch ID, which can unlock the phone and verify transactions made on the App Store.This model grew in size to a 4.7″ 1334 x 640 screen with 326 PPI with a shift to a metal body. Apple Pay was also introduced. 6 Plus is the same as the iPhone 6, except for a bigger 5.5-inch screen with a resolution of 1920 x 1080 at 401ppi and a larger battery of 2915mAh to keep it going.In 6S, the aluminium used to make it stronger has been upgraded, along with improvements in performance and battery life and sophisticated capabilities like 3D Touch and 4K video recording.By reverting to the classic appearance of the iPhone 5 models, the iPhone SE has made an unexpected shift. It did this to provide a smaller and less expensive choice while retaining the 6S’s strong internals, including the A9 CPU and the most recent camera, but with a 4-inch screen with 1136 x 640 pixels.The A10 processor powers the iPhone 7, which also adds waterproofing. The debut of the dual camera on the back demonstrated a significant difference in the feature set. The dual camera, which works in tandem with the new iPhone 7, is totally new, featuring portrait bokeh and 2x optical zoom for high-quality close-ups.Although the screen size and resolution are identical to those of the iPhone 7, Apple has introduced True Tone technology, replaced the glass with metal, and increased the storage capacity. In addition, wireless charging is now possible, and the CPU has been updated to the A11 chip.The iPhone 8 Plus has True Tone technology, wireless charging, a new CPU, and double the storage. The final iPhone model uses Touch ID as a biometric option, with the iPhone X setting the bar for future iPhones with Face ID.The iPhone X  debuted with an OLED screen, minimal grooves, and face recognition using facial ID, doing away with one of the iPhone’s most recognisable interactions: the home button.The iPhone XR is the entry-level model for 2018, featuring an aluminium frame with stainless steel accents, a single camera with dual lenses, and an LCD with OLED.The iPhone XS has a better camera than the iPhone X, dual-SIM compatibility, a Bionic A12 processor, a 512 GB storage option, lengthy battery life, and a new gold finish. However, the design of the 10th-anniversary model has not changed.The iPhone 11 replaces the iPhone XR and, while being the same size, adds a second camera to the back and a new matte camera cover.The iPhone 11 Pro, which succeeds the iPhone XS Max, has an identical design to the iPhone 11 Pro but bigger. It’s a 6.5-inch stunner, especially in midnight green, and its photography skills are outstanding, with Night Mode improving low-light images significantly.In September 2020, Apple introduced the iPhone 12. A smartphone with a 6.1-inch XDR OLED Super Retina display, a ceramic frame, a new Bionic A14 processor, and upgraded cameras.The iPhone 12 puts a lot of emphasis on 5G, with each model having 5G capabilities but only using them when they’re available to preserve battery life. The iPhone 12 Pro Max is Apple’s biggest smartphone, and it has some of the same features as the iPhone 11 Pro Max 6.5″. Unfortunately, it’s also one of the priciest on the market.\""
   ]
  },
  {
   "cell_type": "markdown",
   "metadata": {},
   "source": [
    "### **2) Encontre as versões do iPhone utilizando o Matcher do spacy.**"
   ]
  },
  {
   "cell_type": "code",
   "execution_count": 266,
   "metadata": {},
   "outputs": [],
   "source": [
    "from spacy.matcher import Matcher\n",
    "matcher = Matcher(vocab=nlp.vocab)"
   ]
  },
  {
   "cell_type": "code",
   "execution_count": 267,
   "metadata": {},
   "outputs": [],
   "source": [
    "document = nlp(file)"
   ]
  },
  {
   "cell_type": "code",
   "execution_count": 268,
   "metadata": {},
   "outputs": [],
   "source": [
    "pattern1 = [{'LOWER':'iphone'}, {'IS_DIGIT': True}]\n",
    "pattern2 = [{'LOWER':'iphone'}, {'IS_ALPHA': True}]\n",
    "pattern3 = [{'LOWER':'iphone'}, {'IS_ALPHA': True}, {'IS_DIGIT': True}]\n",
    "pattern4 = [{'LOWER':'iphone'}, {'IS_DIGIT': True}, {'LOWER':'plus'}]\n",
    "pattern5 = [{'LOWER':'iphone'}, {'IS_DIGIT': True}, {'LOWER':'pro'}]\n",
    "pattern6 = [{'LOWER':'iphone'}, {'IS_DIGIT': True}, {'LOWER':'pro'}, {'LOWER':'max'}]\n",
    "patterns = [pattern1, pattern2,pattern3,pattern4, pattern5, pattern6]\n",
    "matcher.add('iPhone_version',patterns)"
   ]
  },
  {
   "cell_type": "code",
   "execution_count": 260,
   "metadata": {},
   "outputs": [],
   "source": [
    "# pattern = [{'LOWER':'iphone'}, {'IS_ALPHA': True}]\n",
    "# matcher.add('iPhone_version',[pattern])"
   ]
  },
  {
   "cell_type": "code",
   "execution_count": 269,
   "metadata": {},
   "outputs": [
    {
     "data": {
      "text/plain": [
       "[(2151983020470152076, 50, 52),\n",
       " (2151983020470152076, 296, 298),\n",
       " (2151983020470152076, 369, 371),\n",
       " (2151983020470152076, 374, 376),\n",
       " (2151983020470152076, 429, 431),\n",
       " (2151983020470152076, 466, 468),\n",
       " (2151983020470152076, 500, 502),\n",
       " (2151983020470152076, 543, 545),\n",
       " (2151983020470152076, 543, 546),\n",
       " (2151983020470152076, 565, 567),\n",
       " (2151983020470152076, 577, 579),\n",
       " (2151983020470152076, 588, 590),\n",
       " (2151983020470152076, 624, 626),\n",
       " (2151983020470152076, 656, 658),\n",
       " (2151983020470152076, 664, 666),\n",
       " (2151983020470152076, 708, 710),\n",
       " (2151983020470152076, 712, 714),\n",
       " (2151983020470152076, 737, 739),\n",
       " (2151983020470152076, 737, 740),\n",
       " (2151983020470152076, 744, 746),\n",
       " (2151983020470152076, 754, 756),\n",
       " (2151983020470152076, 754, 757),\n",
       " (2151983020470152076, 797, 799),\n",
       " (2151983020470152076, 828, 830),\n",
       " (2151983020470152076, 860, 862),\n",
       " (2151983020470152076, 860, 863),\n",
       " (2151983020470152076, 860, 864),\n",
       " (2151983020470152076, 880, 882),\n",
       " (2151983020470152076, 880, 883),\n",
       " (2151983020470152076, 880, 884)]"
      ]
     },
     "execution_count": 269,
     "metadata": {},
     "output_type": "execute_result"
    }
   ],
   "source": [
    "found_matches = matcher(document)\n",
    "found_matches"
   ]
  },
  {
   "cell_type": "code",
   "execution_count": 270,
   "metadata": {},
   "outputs": [
    {
     "name": "stdout",
     "output_type": "stream",
     "text": [
      "Match found: iPhone 3\n",
      "Match found: iPhone 6\n",
      "Match found: iPhone 5\n",
      "Match found: iPhone SE\n",
      "Match found: iPhone 7\n",
      "Match found: iPhone 7\n",
      "Match found: iPhone 7\n",
      "Match found: iPhone 8\n",
      "Match found: iPhone 8 Plus\n",
      "Match found: iPhone model\n",
      "Match found: iPhone X\n",
      "Match found: iPhone X\n",
      "Match found: iPhone XR\n",
      "Match found: iPhone XS\n",
      "Match found: iPhone X\n",
      "Match found: iPhone 11\n",
      "Match found: iPhone XR\n",
      "Match found: iPhone 11\n",
      "Match found: iPhone 11 Pro\n",
      "Match found: iPhone XS\n",
      "Match found: iPhone 11\n",
      "Match found: iPhone 11 Pro\n",
      "Match found: iPhone 12\n",
      "Match found: iPhone 12\n",
      "Match found: iPhone 12\n",
      "Match found: iPhone 12 Pro\n",
      "Match found: iPhone 12 Pro Max\n",
      "Match found: iPhone 11\n",
      "Match found: iPhone 11 Pro\n",
      "Match found: iPhone 11 Pro Max\n"
     ]
    }
   ],
   "source": [
    "for match_id,start,end in found_matches:\n",
    "    print(f'Match found: {document[start:end].text}')"
   ]
  },
  {
   "cell_type": "code",
   "execution_count": null,
   "metadata": {},
   "outputs": [],
   "source": []
  }
 ],
 "metadata": {
  "kernelspec": {
   "display_name": "Python 3.8.10 64-bit",
   "language": "python",
   "name": "python3"
  },
  "language_info": {
   "codemirror_mode": {
    "name": "ipython",
    "version": 3
   },
   "file_extension": ".py",
   "mimetype": "text/x-python",
   "name": "python",
   "nbconvert_exporter": "python",
   "pygments_lexer": "ipython3",
   "version": "3.8.10"
  },
  "orig_nbformat": 4,
  "vscode": {
   "interpreter": {
    "hash": "916dbcbb3f70747c44a77c7bcd40155683ae19c65e1c03b4aa3499c5328201f1"
   }
  }
 },
 "nbformat": 4,
 "nbformat_minor": 2
}
