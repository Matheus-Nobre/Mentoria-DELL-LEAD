{
 "cells": [
  {
   "cell_type": "markdown",
   "metadata": {},
   "source": [
    "### **1) Utilize o arquivo iphone.txt**"
   ]
  },
  {
   "cell_type": "code",
   "execution_count": 83,
   "metadata": {},
   "outputs": [],
   "source": [
    "import spacy\n",
    "nlp = spacy.load('en_core_web_sm')"
   ]
  },
  {
   "cell_type": "code",
   "execution_count": 84,
   "metadata": {},
   "outputs": [],
   "source": [
    "with open(\"phone.txt\", \"r\") as arquivo:\n",
    "    conteudo = arquivo.read()"
   ]
  },
  {
   "cell_type": "markdown",
   "metadata": {},
   "source": [
    "### **2) Encontre as versões do iPhone utilizando o Matcher do spacy.**"
   ]
  },
  {
   "cell_type": "code",
   "execution_count": 85,
   "metadata": {},
   "outputs": [],
   "source": [
    "from spacy.matcher import Matcher\n",
    "matcher = Matcher(vocab=nlp.vocab)"
   ]
  },
  {
   "cell_type": "code",
   "execution_count": 86,
   "metadata": {},
   "outputs": [],
   "source": [
    "document = nlp(conteudo)"
   ]
  },
  {
   "cell_type": "code",
   "execution_count": 87,
   "metadata": {},
   "outputs": [],
   "source": [
    "pattern1 = [{'LOWER':'iphone'}, {'IS_DIGIT': True}]\n",
    "pattern2 = [{'LOWER':'iphone'}, {'IS_ALPHA': True}]\n",
    "pattern3 = [{'LOWER':'iphone'}, {'IS_ALPHA': True}, {'IS_DIGIT': True}]\n",
    "pattern4 = [{'LOWER':'iphone'}, {'IS_DIGIT': True}, {'LOWER':'plus'}]\n",
    "pattern5 = [{'LOWER':'iphone'}, {'IS_DIGIT': True}, {'LOWER':'pro'}]\n",
    "pattern6 = [{'LOWER':'iphone'}, {'IS_DIGIT': True}, {'LOWER':'pro'}, {'LOWER':'max'}]\n",
    "patterns = [pattern1, pattern2,pattern3,pattern4, pattern5, pattern6]\n",
    "matcher.add('iPhone_version',patterns)"
   ]
  },
  {
   "cell_type": "code",
   "execution_count": 88,
   "metadata": {},
   "outputs": [
    {
     "data": {
      "text/plain": [
       "[(2151983020470152076, 51, 53),\n",
       " (2151983020470152076, 306, 308),\n",
       " (2151983020470152076, 381, 383),\n",
       " (2151983020470152076, 386, 388),\n",
       " (2151983020470152076, 442, 444),\n",
       " (2151983020470152076, 479, 481),\n",
       " (2151983020470152076, 514, 516),\n",
       " (2151983020470152076, 558, 560),\n",
       " (2151983020470152076, 558, 561),\n",
       " (2151983020470152076, 580, 582),\n",
       " (2151983020470152076, 592, 594),\n",
       " (2151983020470152076, 606, 608),\n",
       " (2151983020470152076, 643, 645),\n",
       " (2151983020470152076, 678, 680),\n",
       " (2151983020470152076, 686, 688),\n",
       " (2151983020470152076, 731, 733),\n",
       " (2151983020470152076, 735, 737),\n",
       " (2151983020470152076, 761, 763),\n",
       " (2151983020470152076, 761, 764),\n",
       " (2151983020470152076, 768, 770),\n",
       " (2151983020470152076, 778, 780),\n",
       " (2151983020470152076, 778, 781),\n",
       " (2151983020470152076, 822, 824),\n",
       " (2151983020470152076, 854, 856),\n",
       " (2151983020470152076, 886, 888),\n",
       " (2151983020470152076, 886, 889),\n",
       " (2151983020470152076, 886, 890),\n",
       " (2151983020470152076, 906, 908),\n",
       " (2151983020470152076, 906, 909),\n",
       " (2151983020470152076, 906, 910)]"
      ]
     },
     "execution_count": 88,
     "metadata": {},
     "output_type": "execute_result"
    }
   ],
   "source": [
    "found_matches = matcher(document)\n",
    "found_matches"
   ]
  },
  {
   "cell_type": "code",
   "execution_count": 89,
   "metadata": {},
   "outputs": [],
   "source": [
    "list_found = []\n",
    "for match_id,start,end in found_matches:\n",
    "    list_found.append(document[start:end].text)"
   ]
  },
  {
   "cell_type": "code",
   "execution_count": 90,
   "metadata": {},
   "outputs": [
    {
     "data": {
      "text/plain": [
       "{'iPhone 11',\n",
       " 'iPhone 11 Pro',\n",
       " 'iPhone 11 Pro Max',\n",
       " 'iPhone 12',\n",
       " 'iPhone 12 Pro',\n",
       " 'iPhone 12 Pro Max',\n",
       " 'iPhone 3',\n",
       " 'iPhone 5',\n",
       " 'iPhone 6',\n",
       " 'iPhone 7',\n",
       " 'iPhone 8',\n",
       " 'iPhone 8 Plus',\n",
       " 'iPhone SE',\n",
       " 'iPhone X',\n",
       " 'iPhone XR',\n",
       " 'iPhone XS',\n",
       " 'iPhone model'}"
      ]
     },
     "execution_count": 90,
     "metadata": {},
     "output_type": "execute_result"
    }
   ],
   "source": [
    "set(list_found)"
   ]
  }
 ],
 "metadata": {
  "kernelspec": {
   "display_name": "Python 3.8.10 64-bit",
   "language": "python",
   "name": "python3"
  },
  "language_info": {
   "codemirror_mode": {
    "name": "ipython",
    "version": 3
   },
   "file_extension": ".py",
   "mimetype": "text/x-python",
   "name": "python",
   "nbconvert_exporter": "python",
   "pygments_lexer": "ipython3",
   "version": "3.8.10"
  },
  "orig_nbformat": 4,
  "vscode": {
   "interpreter": {
    "hash": "31f2aee4e71d21fbe5cf8b01ff0e069b9275f58929596ceb00d14d90e3e16cd6"
   }
  }
 },
 "nbformat": 4,
 "nbformat_minor": 2
}
